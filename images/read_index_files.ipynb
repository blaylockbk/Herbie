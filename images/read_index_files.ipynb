{
 "cells": [
  {
   "cell_type": "markdown",
   "metadata": {},
   "source": [
    "# Reading Index Files\n",
    "\n",
    "Pandas, Polars, and Dask can be used to read GRIB2 index files.\n"
   ]
  },
  {
   "cell_type": "code",
   "execution_count": 2,
   "metadata": {},
   "outputs": [],
   "source": [
    "import pandas as pd\n",
    "import polars as pl"
   ]
  },
  {
   "cell_type": "markdown",
   "metadata": {},
   "source": [
    "## wgrib2-style index files\n"
   ]
  },
  {
   "cell_type": "code",
   "execution_count": 3,
   "metadata": {},
   "outputs": [],
   "source": [
    "index_path = \"https://noaa-hrrr-bdp-pds.s3.amazonaws.com/hrrr.20231201/conus/hrrr.t00z.wrfsfcf00.grib2.idx\""
   ]
  },
  {
   "cell_type": "code",
   "execution_count": 11,
   "metadata": {},
   "outputs": [
    {
     "name": "stdout",
     "output_type": "stream",
     "text": [
      "363 ms ± 16.7 ms per loop (mean ± std. dev. of 7 runs, 1 loop each)\n"
     ]
    }
   ],
   "source": [
    "%%timeit\n",
    "index_pandas = pd.read_csv(\n",
    "    index_path,\n",
    "    sep=\":\",\n",
    "    header=None,\n",
    ")"
   ]
  },
  {
   "cell_type": "code",
   "execution_count": 12,
   "metadata": {},
   "outputs": [
    {
     "name": "stdout",
     "output_type": "stream",
     "text": [
      "388 ms ± 46.7 ms per loop (mean ± std. dev. of 7 runs, 1 loop each)\n"
     ]
    }
   ],
   "source": [
    "%%timeit\n",
    "index_polars = pl.read_csv(\n",
    "    index_path,\n",
    "    separator=\":\",\n",
    "    truncate_ragged_lines=True,\n",
    "    has_header=False,\n",
    ")"
   ]
  },
  {
   "cell_type": "code",
   "execution_count": 8,
   "metadata": {},
   "outputs": [
    {
     "data": {
      "text/html": [
       "<div>\n",
       "<style scoped>\n",
       "    .dataframe tbody tr th:only-of-type {\n",
       "        vertical-align: middle;\n",
       "    }\n",
       "\n",
       "    .dataframe tbody tr th {\n",
       "        vertical-align: top;\n",
       "    }\n",
       "\n",
       "    .dataframe thead th {\n",
       "        text-align: right;\n",
       "    }\n",
       "</style>\n",
       "<table border=\"1\" class=\"dataframe\">\n",
       "  <thead>\n",
       "    <tr style=\"text-align: right;\">\n",
       "      <th></th>\n",
       "      <th>0</th>\n",
       "      <th>1</th>\n",
       "      <th>2</th>\n",
       "      <th>3</th>\n",
       "      <th>4</th>\n",
       "      <th>5</th>\n",
       "      <th>6</th>\n",
       "    </tr>\n",
       "  </thead>\n",
       "  <tbody>\n",
       "    <tr>\n",
       "      <th>0</th>\n",
       "      <td>1</td>\n",
       "      <td>0</td>\n",
       "      <td>d=2023120100</td>\n",
       "      <td>REFC</td>\n",
       "      <td>entire atmosphere</td>\n",
       "      <td>anl</td>\n",
       "      <td>NaN</td>\n",
       "    </tr>\n",
       "    <tr>\n",
       "      <th>1</th>\n",
       "      <td>2</td>\n",
       "      <td>404023</td>\n",
       "      <td>d=2023120100</td>\n",
       "      <td>RETOP</td>\n",
       "      <td>cloud top</td>\n",
       "      <td>anl</td>\n",
       "      <td>NaN</td>\n",
       "    </tr>\n",
       "    <tr>\n",
       "      <th>2</th>\n",
       "      <td>3</td>\n",
       "      <td>640892</td>\n",
       "      <td>d=2023120100</td>\n",
       "      <td>var discipline=0 center=7 local_table=1 parmca...</td>\n",
       "      <td>entire atmosphere</td>\n",
       "      <td>anl</td>\n",
       "      <td>NaN</td>\n",
       "    </tr>\n",
       "    <tr>\n",
       "      <th>3</th>\n",
       "      <td>4</td>\n",
       "      <td>1192793</td>\n",
       "      <td>d=2023120100</td>\n",
       "      <td>VIL</td>\n",
       "      <td>entire atmosphere</td>\n",
       "      <td>anl</td>\n",
       "      <td>NaN</td>\n",
       "    </tr>\n",
       "    <tr>\n",
       "      <th>4</th>\n",
       "      <td>5</td>\n",
       "      <td>1532460</td>\n",
       "      <td>d=2023120100</td>\n",
       "      <td>VIS</td>\n",
       "      <td>surface</td>\n",
       "      <td>anl</td>\n",
       "      <td>NaN</td>\n",
       "    </tr>\n",
       "    <tr>\n",
       "      <th>...</th>\n",
       "      <td>...</td>\n",
       "      <td>...</td>\n",
       "      <td>...</td>\n",
       "      <td>...</td>\n",
       "      <td>...</td>\n",
       "      <td>...</td>\n",
       "      <td>...</td>\n",
       "    </tr>\n",
       "    <tr>\n",
       "      <th>165</th>\n",
       "      <td>166</td>\n",
       "      <td>132979980</td>\n",
       "      <td>d=2023120100</td>\n",
       "      <td>ICEC</td>\n",
       "      <td>surface</td>\n",
       "      <td>anl</td>\n",
       "      <td>NaN</td>\n",
       "    </tr>\n",
       "    <tr>\n",
       "      <th>166</th>\n",
       "      <td>167</td>\n",
       "      <td>132983690</td>\n",
       "      <td>d=2023120100</td>\n",
       "      <td>SBT123</td>\n",
       "      <td>top of atmosphere</td>\n",
       "      <td>anl</td>\n",
       "      <td>NaN</td>\n",
       "    </tr>\n",
       "    <tr>\n",
       "      <th>167</th>\n",
       "      <td>168</td>\n",
       "      <td>134547872</td>\n",
       "      <td>d=2023120100</td>\n",
       "      <td>SBT124</td>\n",
       "      <td>top of atmosphere</td>\n",
       "      <td>anl</td>\n",
       "      <td>NaN</td>\n",
       "    </tr>\n",
       "    <tr>\n",
       "      <th>168</th>\n",
       "      <td>169</td>\n",
       "      <td>136934894</td>\n",
       "      <td>d=2023120100</td>\n",
       "      <td>SBT113</td>\n",
       "      <td>top of atmosphere</td>\n",
       "      <td>anl</td>\n",
       "      <td>NaN</td>\n",
       "    </tr>\n",
       "    <tr>\n",
       "      <th>169</th>\n",
       "      <td>170</td>\n",
       "      <td>138388309</td>\n",
       "      <td>d=2023120100</td>\n",
       "      <td>SBT114</td>\n",
       "      <td>top of atmosphere</td>\n",
       "      <td>anl</td>\n",
       "      <td>NaN</td>\n",
       "    </tr>\n",
       "  </tbody>\n",
       "</table>\n",
       "<p>170 rows × 7 columns</p>\n",
       "</div>"
      ],
      "text/plain": [
       "       0          1             2  \\\n",
       "0      1          0  d=2023120100   \n",
       "1      2     404023  d=2023120100   \n",
       "2      3     640892  d=2023120100   \n",
       "3      4    1192793  d=2023120100   \n",
       "4      5    1532460  d=2023120100   \n",
       "..   ...        ...           ...   \n",
       "165  166  132979980  d=2023120100   \n",
       "166  167  132983690  d=2023120100   \n",
       "167  168  134547872  d=2023120100   \n",
       "168  169  136934894  d=2023120100   \n",
       "169  170  138388309  d=2023120100   \n",
       "\n",
       "                                                     3                  4  \\\n",
       "0                                                 REFC  entire atmosphere   \n",
       "1                                                RETOP          cloud top   \n",
       "2    var discipline=0 center=7 local_table=1 parmca...  entire atmosphere   \n",
       "3                                                  VIL  entire atmosphere   \n",
       "4                                                  VIS            surface   \n",
       "..                                                 ...                ...   \n",
       "165                                               ICEC            surface   \n",
       "166                                             SBT123  top of atmosphere   \n",
       "167                                             SBT124  top of atmosphere   \n",
       "168                                             SBT113  top of atmosphere   \n",
       "169                                             SBT114  top of atmosphere   \n",
       "\n",
       "       5   6  \n",
       "0    anl NaN  \n",
       "1    anl NaN  \n",
       "2    anl NaN  \n",
       "3    anl NaN  \n",
       "4    anl NaN  \n",
       "..   ...  ..  \n",
       "165  anl NaN  \n",
       "166  anl NaN  \n",
       "167  anl NaN  \n",
       "168  anl NaN  \n",
       "169  anl NaN  \n",
       "\n",
       "[170 rows x 7 columns]"
      ]
     },
     "execution_count": 8,
     "metadata": {},
     "output_type": "execute_result"
    }
   ],
   "source": [
    "index_pandas = pd.read_csv(\n",
    "    index_path,\n",
    "    sep=\":\",\n",
    "    header=None,\n",
    ")\n",
    "index_pandas"
   ]
  },
  {
   "cell_type": "code",
   "execution_count": 10,
   "metadata": {},
   "outputs": [
    {
     "data": {
      "text/html": [
       "<div><style>\n",
       ".dataframe > thead > tr,\n",
       ".dataframe > tbody > tr {\n",
       "  text-align: right;\n",
       "  white-space: pre-wrap;\n",
       "}\n",
       "</style>\n",
       "<small>shape: (170, 7)</small><table border=\"1\" class=\"dataframe\"><thead><tr><th>column_1</th><th>column_2</th><th>column_3</th><th>column_4</th><th>column_5</th><th>column_6</th><th>column_7</th></tr><tr><td>i64</td><td>i64</td><td>str</td><td>str</td><td>str</td><td>str</td><td>str</td></tr></thead><tbody><tr><td>1</td><td>0</td><td>&quot;d=2023120100&quot;</td><td>&quot;REFC&quot;</td><td>&quot;entire atmosph…</td><td>&quot;anl&quot;</td><td>null</td></tr><tr><td>2</td><td>404023</td><td>&quot;d=2023120100&quot;</td><td>&quot;RETOP&quot;</td><td>&quot;cloud top&quot;</td><td>&quot;anl&quot;</td><td>null</td></tr><tr><td>3</td><td>640892</td><td>&quot;d=2023120100&quot;</td><td>&quot;var discipline…</td><td>&quot;entire atmosph…</td><td>&quot;anl&quot;</td><td>null</td></tr><tr><td>4</td><td>1192793</td><td>&quot;d=2023120100&quot;</td><td>&quot;VIL&quot;</td><td>&quot;entire atmosph…</td><td>&quot;anl&quot;</td><td>null</td></tr><tr><td>5</td><td>1532460</td><td>&quot;d=2023120100&quot;</td><td>&quot;VIS&quot;</td><td>&quot;surface&quot;</td><td>&quot;anl&quot;</td><td>null</td></tr><tr><td>6</td><td>2963754</td><td>&quot;d=2023120100&quot;</td><td>&quot;REFD&quot;</td><td>&quot;1000 m above g…</td><td>&quot;anl&quot;</td><td>null</td></tr><tr><td>7</td><td>3239430</td><td>&quot;d=2023120100&quot;</td><td>&quot;REFD&quot;</td><td>&quot;4000 m above g…</td><td>&quot;anl&quot;</td><td>null</td></tr><tr><td>8</td><td>3415741</td><td>&quot;d=2023120100&quot;</td><td>&quot;REFD&quot;</td><td>&quot;263 K level&quot;</td><td>&quot;anl&quot;</td><td>null</td></tr><tr><td>9</td><td>3677963</td><td>&quot;d=2023120100&quot;</td><td>&quot;GUST&quot;</td><td>&quot;surface&quot;</td><td>&quot;anl&quot;</td><td>null</td></tr><tr><td>10</td><td>4879687</td><td>&quot;d=2023120100&quot;</td><td>&quot;UGRD&quot;</td><td>&quot;250 mb&quot;</td><td>&quot;anl&quot;</td><td>null</td></tr><tr><td>11</td><td>5674856</td><td>&quot;d=2023120100&quot;</td><td>&quot;VGRD&quot;</td><td>&quot;250 mb&quot;</td><td>&quot;anl&quot;</td><td>null</td></tr><tr><td>12</td><td>6444212</td><td>&quot;d=2023120100&quot;</td><td>&quot;UGRD&quot;</td><td>&quot;300 mb&quot;</td><td>&quot;anl&quot;</td><td>null</td></tr><tr><td>&hellip;</td><td>&hellip;</td><td>&hellip;</td><td>&hellip;</td><td>&hellip;</td><td>&hellip;</td><td>&hellip;</td></tr><tr><td>159</td><td>124334085</td><td>&quot;d=2023120100&quot;</td><td>&quot;HGT&quot;</td><td>&quot;level of free …</td><td>&quot;anl&quot;</td><td>null</td></tr><tr><td>160</td><td>126976543</td><td>&quot;d=2023120100&quot;</td><td>&quot;EFHL&quot;</td><td>&quot;surface&quot;</td><td>&quot;anl&quot;</td><td>null</td></tr><tr><td>161</td><td>127528723</td><td>&quot;d=2023120100&quot;</td><td>&quot;CANGLE&quot;</td><td>&quot;0-500 m above …</td><td>&quot;anl&quot;</td><td>null</td></tr><tr><td>162</td><td>129487105</td><td>&quot;d=2023120100&quot;</td><td>&quot;LAYTH&quot;</td><td>&quot;261 K level - …</td><td>&quot;anl&quot;</td><td>null</td></tr><tr><td>163</td><td>130874396</td><td>&quot;d=2023120100&quot;</td><td>&quot;ESP&quot;</td><td>&quot;0-3000 m above…</td><td>&quot;anl&quot;</td><td>null</td></tr><tr><td>164</td><td>131704975</td><td>&quot;d=2023120100&quot;</td><td>&quot;RHPW&quot;</td><td>&quot;entire atmosph…</td><td>&quot;anl&quot;</td><td>null</td></tr><tr><td>165</td><td>132929511</td><td>&quot;d=2023120100&quot;</td><td>&quot;LAND&quot;</td><td>&quot;surface&quot;</td><td>&quot;anl&quot;</td><td>null</td></tr><tr><td>166</td><td>132979980</td><td>&quot;d=2023120100&quot;</td><td>&quot;ICEC&quot;</td><td>&quot;surface&quot;</td><td>&quot;anl&quot;</td><td>null</td></tr><tr><td>167</td><td>132983690</td><td>&quot;d=2023120100&quot;</td><td>&quot;SBT123&quot;</td><td>&quot;top of atmosph…</td><td>&quot;anl&quot;</td><td>null</td></tr><tr><td>168</td><td>134547872</td><td>&quot;d=2023120100&quot;</td><td>&quot;SBT124&quot;</td><td>&quot;top of atmosph…</td><td>&quot;anl&quot;</td><td>null</td></tr><tr><td>169</td><td>136934894</td><td>&quot;d=2023120100&quot;</td><td>&quot;SBT113&quot;</td><td>&quot;top of atmosph…</td><td>&quot;anl&quot;</td><td>null</td></tr><tr><td>170</td><td>138388309</td><td>&quot;d=2023120100&quot;</td><td>&quot;SBT114&quot;</td><td>&quot;top of atmosph…</td><td>&quot;anl&quot;</td><td>null</td></tr></tbody></table></div>"
      ],
      "text/plain": [
       "shape: (170, 7)\n",
       "┌──────────┬───────────┬──────────────┬──────────────────┬────────────┬──────────┬──────────┐\n",
       "│ column_1 ┆ column_2  ┆ column_3     ┆ column_4         ┆ column_5   ┆ column_6 ┆ column_7 │\n",
       "│ ---      ┆ ---       ┆ ---          ┆ ---              ┆ ---        ┆ ---      ┆ ---      │\n",
       "│ i64      ┆ i64       ┆ str          ┆ str              ┆ str        ┆ str      ┆ str      │\n",
       "╞══════════╪═══════════╪══════════════╪══════════════════╪════════════╪══════════╪══════════╡\n",
       "│ 1        ┆ 0         ┆ d=2023120100 ┆ REFC             ┆ entire     ┆ anl      ┆ null     │\n",
       "│          ┆           ┆              ┆                  ┆ atmosphere ┆          ┆          │\n",
       "│ 2        ┆ 404023    ┆ d=2023120100 ┆ RETOP            ┆ cloud top  ┆ anl      ┆ null     │\n",
       "│ 3        ┆ 640892    ┆ d=2023120100 ┆ var discipline=0 ┆ entire     ┆ anl      ┆ null     │\n",
       "│          ┆           ┆              ┆ center=7 local_… ┆ atmosphere ┆          ┆          │\n",
       "│ 4        ┆ 1192793   ┆ d=2023120100 ┆ VIL              ┆ entire     ┆ anl      ┆ null     │\n",
       "│          ┆           ┆              ┆                  ┆ atmosphere ┆          ┆          │\n",
       "│ …        ┆ …         ┆ …            ┆ …                ┆ …          ┆ …        ┆ …        │\n",
       "│ 167      ┆ 132983690 ┆ d=2023120100 ┆ SBT123           ┆ top of     ┆ anl      ┆ null     │\n",
       "│          ┆           ┆              ┆                  ┆ atmosphere ┆          ┆          │\n",
       "│ 168      ┆ 134547872 ┆ d=2023120100 ┆ SBT124           ┆ top of     ┆ anl      ┆ null     │\n",
       "│          ┆           ┆              ┆                  ┆ atmosphere ┆          ┆          │\n",
       "│ 169      ┆ 136934894 ┆ d=2023120100 ┆ SBT113           ┆ top of     ┆ anl      ┆ null     │\n",
       "│          ┆           ┆              ┆                  ┆ atmosphere ┆          ┆          │\n",
       "│ 170      ┆ 138388309 ┆ d=2023120100 ┆ SBT114           ┆ top of     ┆ anl      ┆ null     │\n",
       "│          ┆           ┆              ┆                  ┆ atmosphere ┆          ┆          │\n",
       "└──────────┴───────────┴──────────────┴──────────────────┴────────────┴──────────┴──────────┘"
      ]
     },
     "execution_count": 10,
     "metadata": {},
     "output_type": "execute_result"
    }
   ],
   "source": [
    "index_polars = pl.read_csv(\n",
    "    index_path,\n",
    "    separator=\":\",\n",
    "    truncate_ragged_lines=True,\n",
    "    has_header=False,\n",
    ")\n",
    "index_polars"
   ]
  },
  {
   "cell_type": "markdown",
   "metadata": {},
   "source": [
    "## eccodes-style index files\n"
   ]
  },
  {
   "cell_type": "code",
   "execution_count": 13,
   "metadata": {},
   "outputs": [],
   "source": [
    "index_filepath = \"https://ai4edataeuwest.blob.core.windows.net/ecmwf/20231201/00z/0p4-beta/oper/20231201000000-0h-oper-fc.index\""
   ]
  },
  {
   "cell_type": "code",
   "execution_count": 14,
   "metadata": {},
   "outputs": [
    {
     "data": {
      "text/html": [
       "<div>\n",
       "<style scoped>\n",
       "    .dataframe tbody tr th:only-of-type {\n",
       "        vertical-align: middle;\n",
       "    }\n",
       "\n",
       "    .dataframe tbody tr th {\n",
       "        vertical-align: top;\n",
       "    }\n",
       "\n",
       "    .dataframe thead th {\n",
       "        text-align: right;\n",
       "    }\n",
       "</style>\n",
       "<table border=\"1\" class=\"dataframe\">\n",
       "  <thead>\n",
       "    <tr style=\"text-align: right;\">\n",
       "      <th></th>\n",
       "      <th>domain</th>\n",
       "      <th>date</th>\n",
       "      <th>time</th>\n",
       "      <th>expver</th>\n",
       "      <th>class</th>\n",
       "      <th>type</th>\n",
       "      <th>stream</th>\n",
       "      <th>step</th>\n",
       "      <th>levelist</th>\n",
       "      <th>levtype</th>\n",
       "      <th>param</th>\n",
       "      <th>_offset</th>\n",
       "      <th>_length</th>\n",
       "    </tr>\n",
       "  </thead>\n",
       "  <tbody>\n",
       "    <tr>\n",
       "      <th>0</th>\n",
       "      <td>g</td>\n",
       "      <td>20231201</td>\n",
       "      <td>0</td>\n",
       "      <td>1</td>\n",
       "      <td>od</td>\n",
       "      <td>fc</td>\n",
       "      <td>oper</td>\n",
       "      <td>0</td>\n",
       "      <td>1000.0</td>\n",
       "      <td>pl</td>\n",
       "      <td>r</td>\n",
       "      <td>0</td>\n",
       "      <td>199377</td>\n",
       "    </tr>\n",
       "    <tr>\n",
       "      <th>1</th>\n",
       "      <td>g</td>\n",
       "      <td>20231201</td>\n",
       "      <td>0</td>\n",
       "      <td>1</td>\n",
       "      <td>od</td>\n",
       "      <td>fc</td>\n",
       "      <td>oper</td>\n",
       "      <td>0</td>\n",
       "      <td>700.0</td>\n",
       "      <td>pl</td>\n",
       "      <td>gh</td>\n",
       "      <td>199377</td>\n",
       "      <td>222840</td>\n",
       "    </tr>\n",
       "    <tr>\n",
       "      <th>2</th>\n",
       "      <td>g</td>\n",
       "      <td>20231201</td>\n",
       "      <td>0</td>\n",
       "      <td>1</td>\n",
       "      <td>od</td>\n",
       "      <td>fc</td>\n",
       "      <td>oper</td>\n",
       "      <td>0</td>\n",
       "      <td>NaN</td>\n",
       "      <td>sfc</td>\n",
       "      <td>st</td>\n",
       "      <td>422217</td>\n",
       "      <td>276625</td>\n",
       "    </tr>\n",
       "    <tr>\n",
       "      <th>3</th>\n",
       "      <td>g</td>\n",
       "      <td>20231201</td>\n",
       "      <td>0</td>\n",
       "      <td>1</td>\n",
       "      <td>od</td>\n",
       "      <td>fc</td>\n",
       "      <td>oper</td>\n",
       "      <td>0</td>\n",
       "      <td>250.0</td>\n",
       "      <td>pl</td>\n",
       "      <td>t</td>\n",
       "      <td>698842</td>\n",
       "      <td>259574</td>\n",
       "    </tr>\n",
       "    <tr>\n",
       "      <th>4</th>\n",
       "      <td>g</td>\n",
       "      <td>20231201</td>\n",
       "      <td>0</td>\n",
       "      <td>1</td>\n",
       "      <td>od</td>\n",
       "      <td>fc</td>\n",
       "      <td>oper</td>\n",
       "      <td>0</td>\n",
       "      <td>1000.0</td>\n",
       "      <td>pl</td>\n",
       "      <td>gh</td>\n",
       "      <td>958416</td>\n",
       "      <td>242618</td>\n",
       "    </tr>\n",
       "    <tr>\n",
       "      <th>...</th>\n",
       "      <td>...</td>\n",
       "      <td>...</td>\n",
       "      <td>...</td>\n",
       "      <td>...</td>\n",
       "      <td>...</td>\n",
       "      <td>...</td>\n",
       "      <td>...</td>\n",
       "      <td>...</td>\n",
       "      <td>...</td>\n",
       "      <td>...</td>\n",
       "      <td>...</td>\n",
       "      <td>...</td>\n",
       "      <td>...</td>\n",
       "    </tr>\n",
       "    <tr>\n",
       "      <th>78</th>\n",
       "      <td>g</td>\n",
       "      <td>20231201</td>\n",
       "      <td>0</td>\n",
       "      <td>1</td>\n",
       "      <td>od</td>\n",
       "      <td>fc</td>\n",
       "      <td>oper</td>\n",
       "      <td>0</td>\n",
       "      <td>925.0</td>\n",
       "      <td>pl</td>\n",
       "      <td>vo</td>\n",
       "      <td>24295901</td>\n",
       "      <td>565867</td>\n",
       "    </tr>\n",
       "    <tr>\n",
       "      <th>79</th>\n",
       "      <td>g</td>\n",
       "      <td>20231201</td>\n",
       "      <td>0</td>\n",
       "      <td>1</td>\n",
       "      <td>od</td>\n",
       "      <td>fc</td>\n",
       "      <td>oper</td>\n",
       "      <td>0</td>\n",
       "      <td>200.0</td>\n",
       "      <td>pl</td>\n",
       "      <td>vo</td>\n",
       "      <td>24861768</td>\n",
       "      <td>561754</td>\n",
       "    </tr>\n",
       "    <tr>\n",
       "      <th>80</th>\n",
       "      <td>g</td>\n",
       "      <td>20231201</td>\n",
       "      <td>0</td>\n",
       "      <td>1</td>\n",
       "      <td>od</td>\n",
       "      <td>fc</td>\n",
       "      <td>oper</td>\n",
       "      <td>0</td>\n",
       "      <td>250.0</td>\n",
       "      <td>pl</td>\n",
       "      <td>vo</td>\n",
       "      <td>25423522</td>\n",
       "      <td>588929</td>\n",
       "    </tr>\n",
       "    <tr>\n",
       "      <th>81</th>\n",
       "      <td>g</td>\n",
       "      <td>20231201</td>\n",
       "      <td>0</td>\n",
       "      <td>1</td>\n",
       "      <td>od</td>\n",
       "      <td>fc</td>\n",
       "      <td>oper</td>\n",
       "      <td>0</td>\n",
       "      <td>50.0</td>\n",
       "      <td>pl</td>\n",
       "      <td>d</td>\n",
       "      <td>26012451</td>\n",
       "      <td>583943</td>\n",
       "    </tr>\n",
       "    <tr>\n",
       "      <th>82</th>\n",
       "      <td>g</td>\n",
       "      <td>20231201</td>\n",
       "      <td>0</td>\n",
       "      <td>1</td>\n",
       "      <td>od</td>\n",
       "      <td>fc</td>\n",
       "      <td>oper</td>\n",
       "      <td>0</td>\n",
       "      <td>50.0</td>\n",
       "      <td>pl</td>\n",
       "      <td>vo</td>\n",
       "      <td>26596394</td>\n",
       "      <td>506111</td>\n",
       "    </tr>\n",
       "  </tbody>\n",
       "</table>\n",
       "<p>83 rows × 13 columns</p>\n",
       "</div>"
      ],
      "text/plain": [
       "   domain      date  time  expver class type stream  step  levelist levtype  \\\n",
       "0       g  20231201     0       1    od   fc   oper     0    1000.0      pl   \n",
       "1       g  20231201     0       1    od   fc   oper     0     700.0      pl   \n",
       "2       g  20231201     0       1    od   fc   oper     0       NaN     sfc   \n",
       "3       g  20231201     0       1    od   fc   oper     0     250.0      pl   \n",
       "4       g  20231201     0       1    od   fc   oper     0    1000.0      pl   \n",
       "..    ...       ...   ...     ...   ...  ...    ...   ...       ...     ...   \n",
       "78      g  20231201     0       1    od   fc   oper     0     925.0      pl   \n",
       "79      g  20231201     0       1    od   fc   oper     0     200.0      pl   \n",
       "80      g  20231201     0       1    od   fc   oper     0     250.0      pl   \n",
       "81      g  20231201     0       1    od   fc   oper     0      50.0      pl   \n",
       "82      g  20231201     0       1    od   fc   oper     0      50.0      pl   \n",
       "\n",
       "   param   _offset  _length  \n",
       "0      r         0   199377  \n",
       "1     gh    199377   222840  \n",
       "2     st    422217   276625  \n",
       "3      t    698842   259574  \n",
       "4     gh    958416   242618  \n",
       "..   ...       ...      ...  \n",
       "78    vo  24295901   565867  \n",
       "79    vo  24861768   561754  \n",
       "80    vo  25423522   588929  \n",
       "81     d  26012451   583943  \n",
       "82    vo  26596394   506111  \n",
       "\n",
       "[83 rows x 13 columns]"
      ]
     },
     "execution_count": 14,
     "metadata": {},
     "output_type": "execute_result"
    }
   ],
   "source": [
    "df = pd.read_json(index_filepath, lines=True)\n",
    "df"
   ]
  },
  {
   "cell_type": "code",
   "execution_count": 17,
   "metadata": {},
   "outputs": [
    {
     "ename": "FileNotFoundError",
     "evalue": "No such file or directory (os error 2): ...t.blob.core.windows.net/ecmwf/20231201/00z/0p4-beta/oper/20231201000000-0h-oper-fc.index",
     "output_type": "error",
     "traceback": [
      "\u001b[0;31m---------------------------------------------------------------------------\u001b[0m",
      "\u001b[0;31mFileNotFoundError\u001b[0m                         Traceback (most recent call last)",
      "\u001b[0;32m/tmp/ipykernel_3376/3684728584.py\u001b[0m in \u001b[0;36m?\u001b[0;34m()\u001b[0m\n\u001b[1;32m      1\u001b[0m \u001b[0;31m# doesn't look like this function can read remote files yet\u001b[0m\u001b[0;34m\u001b[0m\u001b[0;34m\u001b[0m\u001b[0m\n\u001b[0;32m----> 2\u001b[0;31m \u001b[0mpl\u001b[0m\u001b[0;34m.\u001b[0m\u001b[0mread_ndjson\u001b[0m\u001b[0;34m(\u001b[0m\u001b[0mindex_filepath\u001b[0m\u001b[0;34m)\u001b[0m\u001b[0;34m\u001b[0m\u001b[0;34m\u001b[0m\u001b[0m\n\u001b[0m",
      "\u001b[0;32m~/miniconda3/envs/herbie-dev/lib/python3.12/site-packages/polars/io/ndjson.py\u001b[0m in \u001b[0;36m?\u001b[0;34m(source, schema, schema_overrides, ignore_errors)\u001b[0m\n\u001b[1;32m     46\u001b[0m     \u001b[0mignore_errors\u001b[0m\u001b[0;34m\u001b[0m\u001b[0;34m\u001b[0m\u001b[0m\n\u001b[1;32m     47\u001b[0m         \u001b[0mReturn\u001b[0m \u001b[0;34m`\u001b[0m\u001b[0mNull\u001b[0m\u001b[0;34m`\u001b[0m \u001b[0;32mif\u001b[0m \u001b[0mparsing\u001b[0m \u001b[0mfails\u001b[0m \u001b[0mbecause\u001b[0m \u001b[0mof\u001b[0m \u001b[0mschema\u001b[0m \u001b[0mmismatches\u001b[0m\u001b[0;34m.\u001b[0m\u001b[0;34m\u001b[0m\u001b[0;34m\u001b[0m\u001b[0m\n\u001b[1;32m     48\u001b[0m \u001b[0;34m\u001b[0m\u001b[0m\n\u001b[1;32m     49\u001b[0m     \"\"\"\n\u001b[0;32m---> 50\u001b[0;31m     return pl.DataFrame._read_ndjson(\n\u001b[0m\u001b[1;32m     51\u001b[0m         \u001b[0msource\u001b[0m\u001b[0;34m,\u001b[0m\u001b[0;34m\u001b[0m\u001b[0;34m\u001b[0m\u001b[0m\n\u001b[1;32m     52\u001b[0m         \u001b[0mschema\u001b[0m\u001b[0;34m=\u001b[0m\u001b[0mschema\u001b[0m\u001b[0;34m,\u001b[0m\u001b[0;34m\u001b[0m\u001b[0;34m\u001b[0m\u001b[0m\n\u001b[1;32m     53\u001b[0m         \u001b[0mschema_overrides\u001b[0m\u001b[0;34m=\u001b[0m\u001b[0mschema_overrides\u001b[0m\u001b[0;34m,\u001b[0m\u001b[0;34m\u001b[0m\u001b[0;34m\u001b[0m\u001b[0m\n",
      "\u001b[0;32m~/miniconda3/envs/herbie-dev/lib/python3.12/site-packages/polars/dataframe/frame.py\u001b[0m in \u001b[0;36m?\u001b[0;34m(cls, source, schema, schema_overrides, ignore_errors)\u001b[0m\n\u001b[1;32m   1102\u001b[0m         \u001b[0;32melif\u001b[0m \u001b[0misinstance\u001b[0m\u001b[0;34m(\u001b[0m\u001b[0msource\u001b[0m\u001b[0;34m,\u001b[0m \u001b[0;34m(\u001b[0m\u001b[0mstr\u001b[0m\u001b[0;34m,\u001b[0m \u001b[0mPath\u001b[0m\u001b[0;34m)\u001b[0m\u001b[0;34m)\u001b[0m\u001b[0;34m:\u001b[0m\u001b[0;34m\u001b[0m\u001b[0;34m\u001b[0m\u001b[0m\n\u001b[1;32m   1103\u001b[0m             \u001b[0msource\u001b[0m \u001b[0;34m=\u001b[0m \u001b[0mnormalize_filepath\u001b[0m\u001b[0;34m(\u001b[0m\u001b[0msource\u001b[0m\u001b[0;34m)\u001b[0m\u001b[0;34m\u001b[0m\u001b[0;34m\u001b[0m\u001b[0m\n\u001b[1;32m   1104\u001b[0m \u001b[0;34m\u001b[0m\u001b[0m\n\u001b[1;32m   1105\u001b[0m         \u001b[0mself\u001b[0m \u001b[0;34m=\u001b[0m \u001b[0mcls\u001b[0m\u001b[0;34m.\u001b[0m\u001b[0m__new__\u001b[0m\u001b[0;34m(\u001b[0m\u001b[0mcls\u001b[0m\u001b[0;34m)\u001b[0m\u001b[0;34m\u001b[0m\u001b[0;34m\u001b[0m\u001b[0m\n\u001b[0;32m-> 1106\u001b[0;31m         self._df = PyDataFrame.read_ndjson(\n\u001b[0m\u001b[1;32m   1107\u001b[0m             \u001b[0msource\u001b[0m\u001b[0;34m,\u001b[0m\u001b[0;34m\u001b[0m\u001b[0;34m\u001b[0m\u001b[0m\n\u001b[1;32m   1108\u001b[0m             \u001b[0mignore_errors\u001b[0m\u001b[0;34m=\u001b[0m\u001b[0mignore_errors\u001b[0m\u001b[0;34m,\u001b[0m\u001b[0;34m\u001b[0m\u001b[0;34m\u001b[0m\u001b[0m\n\u001b[1;32m   1109\u001b[0m             \u001b[0mschema\u001b[0m\u001b[0;34m=\u001b[0m\u001b[0mschema\u001b[0m\u001b[0;34m,\u001b[0m\u001b[0;34m\u001b[0m\u001b[0;34m\u001b[0m\u001b[0m\n",
      "\u001b[0;31mFileNotFoundError\u001b[0m: No such file or directory (os error 2): ...t.blob.core.windows.net/ecmwf/20231201/00z/0p4-beta/oper/20231201000000-0h-oper-fc.index"
     ]
    }
   ],
   "source": [
    "# doesn't look like this function can read remote files yet\n",
    "# https://github.com/pola-rs/polars/issues/13486\n",
    "pl.read_ndjson(index_filepath)"
   ]
  },
  {
   "cell_type": "code",
   "execution_count": 22,
   "metadata": {},
   "outputs": [
    {
     "data": {
      "text/html": [
       "<div><style>\n",
       ".dataframe > thead > tr,\n",
       ".dataframe > tbody > tr {\n",
       "  text-align: right;\n",
       "  white-space: pre-wrap;\n",
       "}\n",
       "</style>\n",
       "<small>shape: (83, 13)</small><table border=\"1\" class=\"dataframe\"><thead><tr><th>domain</th><th>date</th><th>time</th><th>expver</th><th>class</th><th>type</th><th>stream</th><th>step</th><th>levelist</th><th>levtype</th><th>param</th><th>_offset</th><th>_length</th></tr><tr><td>str</td><td>str</td><td>str</td><td>str</td><td>str</td><td>str</td><td>str</td><td>str</td><td>str</td><td>str</td><td>str</td><td>i64</td><td>i64</td></tr></thead><tbody><tr><td>&quot;g&quot;</td><td>&quot;20231201&quot;</td><td>&quot;0000&quot;</td><td>&quot;0001&quot;</td><td>&quot;od&quot;</td><td>&quot;fc&quot;</td><td>&quot;oper&quot;</td><td>&quot;0&quot;</td><td>&quot;1000&quot;</td><td>&quot;pl&quot;</td><td>&quot;r&quot;</td><td>0</td><td>199377</td></tr><tr><td>&quot;g&quot;</td><td>&quot;20231201&quot;</td><td>&quot;0000&quot;</td><td>&quot;0001&quot;</td><td>&quot;od&quot;</td><td>&quot;fc&quot;</td><td>&quot;oper&quot;</td><td>&quot;0&quot;</td><td>&quot;700&quot;</td><td>&quot;pl&quot;</td><td>&quot;gh&quot;</td><td>199377</td><td>222840</td></tr><tr><td>&quot;g&quot;</td><td>&quot;20231201&quot;</td><td>&quot;0000&quot;</td><td>&quot;0001&quot;</td><td>&quot;od&quot;</td><td>&quot;fc&quot;</td><td>&quot;oper&quot;</td><td>&quot;0&quot;</td><td>null</td><td>&quot;sfc&quot;</td><td>&quot;st&quot;</td><td>422217</td><td>276625</td></tr><tr><td>&quot;g&quot;</td><td>&quot;20231201&quot;</td><td>&quot;0000&quot;</td><td>&quot;0001&quot;</td><td>&quot;od&quot;</td><td>&quot;fc&quot;</td><td>&quot;oper&quot;</td><td>&quot;0&quot;</td><td>&quot;250&quot;</td><td>&quot;pl&quot;</td><td>&quot;t&quot;</td><td>698842</td><td>259574</td></tr><tr><td>&quot;g&quot;</td><td>&quot;20231201&quot;</td><td>&quot;0000&quot;</td><td>&quot;0001&quot;</td><td>&quot;od&quot;</td><td>&quot;fc&quot;</td><td>&quot;oper&quot;</td><td>&quot;0&quot;</td><td>&quot;1000&quot;</td><td>&quot;pl&quot;</td><td>&quot;gh&quot;</td><td>958416</td><td>242618</td></tr><tr><td>&quot;g&quot;</td><td>&quot;20231201&quot;</td><td>&quot;0000&quot;</td><td>&quot;0001&quot;</td><td>&quot;od&quot;</td><td>&quot;fc&quot;</td><td>&quot;oper&quot;</td><td>&quot;0&quot;</td><td>&quot;50&quot;</td><td>&quot;pl&quot;</td><td>&quot;v&quot;</td><td>1201034</td><td>271253</td></tr><tr><td>&quot;g&quot;</td><td>&quot;20231201&quot;</td><td>&quot;0000&quot;</td><td>&quot;0001&quot;</td><td>&quot;od&quot;</td><td>&quot;fc&quot;</td><td>&quot;oper&quot;</td><td>&quot;0&quot;</td><td>&quot;50&quot;</td><td>&quot;pl&quot;</td><td>&quot;u&quot;</td><td>1472287</td><td>283796</td></tr><tr><td>&quot;g&quot;</td><td>&quot;20231201&quot;</td><td>&quot;0000&quot;</td><td>&quot;0001&quot;</td><td>&quot;od&quot;</td><td>&quot;fc&quot;</td><td>&quot;oper&quot;</td><td>&quot;0&quot;</td><td>&quot;1000&quot;</td><td>&quot;pl&quot;</td><td>&quot;t&quot;</td><td>1756083</td><td>256981</td></tr><tr><td>&quot;g&quot;</td><td>&quot;20231201&quot;</td><td>&quot;0000&quot;</td><td>&quot;0001&quot;</td><td>&quot;od&quot;</td><td>&quot;fc&quot;</td><td>&quot;oper&quot;</td><td>&quot;0&quot;</td><td>&quot;500&quot;</td><td>&quot;pl&quot;</td><td>&quot;r&quot;</td><td>2013064</td><td>240409</td></tr><tr><td>&quot;g&quot;</td><td>&quot;20231201&quot;</td><td>&quot;0000&quot;</td><td>&quot;0001&quot;</td><td>&quot;od&quot;</td><td>&quot;fc&quot;</td><td>&quot;oper&quot;</td><td>&quot;0&quot;</td><td>&quot;200&quot;</td><td>&quot;pl&quot;</td><td>&quot;r&quot;</td><td>2253473</td><td>193332</td></tr><tr><td>&quot;g&quot;</td><td>&quot;20231201&quot;</td><td>&quot;0000&quot;</td><td>&quot;0001&quot;</td><td>&quot;od&quot;</td><td>&quot;fc&quot;</td><td>&quot;oper&quot;</td><td>&quot;0&quot;</td><td>null</td><td>&quot;sfc&quot;</td><td>&quot;skt&quot;</td><td>2446805</td><td>280022</td></tr><tr><td>&quot;g&quot;</td><td>&quot;20231201&quot;</td><td>&quot;0000&quot;</td><td>&quot;0001&quot;</td><td>&quot;od&quot;</td><td>&quot;fc&quot;</td><td>&quot;oper&quot;</td><td>&quot;0&quot;</td><td>&quot;250&quot;</td><td>&quot;pl&quot;</td><td>&quot;gh&quot;</td><td>2726827</td><td>212121</td></tr><tr><td>&hellip;</td><td>&hellip;</td><td>&hellip;</td><td>&hellip;</td><td>&hellip;</td><td>&hellip;</td><td>&hellip;</td><td>&hellip;</td><td>&hellip;</td><td>&hellip;</td><td>&hellip;</td><td>&hellip;</td><td>&hellip;</td></tr><tr><td>&quot;g&quot;</td><td>&quot;20231201&quot;</td><td>&quot;0000&quot;</td><td>&quot;0001&quot;</td><td>&quot;od&quot;</td><td>&quot;fc&quot;</td><td>&quot;oper&quot;</td><td>&quot;0&quot;</td><td>&quot;300&quot;</td><td>&quot;pl&quot;</td><td>&quot;d&quot;</td><td>20827128</td><td>584413</td></tr><tr><td>&quot;g&quot;</td><td>&quot;20231201&quot;</td><td>&quot;0000&quot;</td><td>&quot;0001&quot;</td><td>&quot;od&quot;</td><td>&quot;fc&quot;</td><td>&quot;oper&quot;</td><td>&quot;0&quot;</td><td>&quot;1000&quot;</td><td>&quot;pl&quot;</td><td>&quot;vo&quot;</td><td>21411541</td><td>546587</td></tr><tr><td>&quot;g&quot;</td><td>&quot;20231201&quot;</td><td>&quot;0000&quot;</td><td>&quot;0001&quot;</td><td>&quot;od&quot;</td><td>&quot;fc&quot;</td><td>&quot;oper&quot;</td><td>&quot;0&quot;</td><td>&quot;200&quot;</td><td>&quot;pl&quot;</td><td>&quot;d&quot;</td><td>21958128</td><td>592813</td></tr><tr><td>&quot;g&quot;</td><td>&quot;20231201&quot;</td><td>&quot;0000&quot;</td><td>&quot;0001&quot;</td><td>&quot;od&quot;</td><td>&quot;fc&quot;</td><td>&quot;oper&quot;</td><td>&quot;0&quot;</td><td>&quot;1000&quot;</td><td>&quot;pl&quot;</td><td>&quot;d&quot;</td><td>22550941</td><td>602564</td></tr><tr><td>&quot;g&quot;</td><td>&quot;20231201&quot;</td><td>&quot;0000&quot;</td><td>&quot;0001&quot;</td><td>&quot;od&quot;</td><td>&quot;fc&quot;</td><td>&quot;oper&quot;</td><td>&quot;0&quot;</td><td>&quot;250&quot;</td><td>&quot;pl&quot;</td><td>&quot;d&quot;</td><td>23153505</td><td>590632</td></tr><tr><td>&quot;g&quot;</td><td>&quot;20231201&quot;</td><td>&quot;0000&quot;</td><td>&quot;0001&quot;</td><td>&quot;od&quot;</td><td>&quot;fc&quot;</td><td>&quot;oper&quot;</td><td>&quot;0&quot;</td><td>null</td><td>&quot;sfc&quot;</td><td>&quot;ro&quot;</td><td>23744137</td><td>224</td></tr><tr><td>&quot;g&quot;</td><td>&quot;20231201&quot;</td><td>&quot;0000&quot;</td><td>&quot;0001&quot;</td><td>&quot;od&quot;</td><td>&quot;fc&quot;</td><td>&quot;oper&quot;</td><td>&quot;0&quot;</td><td>&quot;700&quot;</td><td>&quot;pl&quot;</td><td>&quot;vo&quot;</td><td>23744361</td><td>551540</td></tr><tr><td>&quot;g&quot;</td><td>&quot;20231201&quot;</td><td>&quot;0000&quot;</td><td>&quot;0001&quot;</td><td>&quot;od&quot;</td><td>&quot;fc&quot;</td><td>&quot;oper&quot;</td><td>&quot;0&quot;</td><td>&quot;925&quot;</td><td>&quot;pl&quot;</td><td>&quot;vo&quot;</td><td>24295901</td><td>565867</td></tr><tr><td>&quot;g&quot;</td><td>&quot;20231201&quot;</td><td>&quot;0000&quot;</td><td>&quot;0001&quot;</td><td>&quot;od&quot;</td><td>&quot;fc&quot;</td><td>&quot;oper&quot;</td><td>&quot;0&quot;</td><td>&quot;200&quot;</td><td>&quot;pl&quot;</td><td>&quot;vo&quot;</td><td>24861768</td><td>561754</td></tr><tr><td>&quot;g&quot;</td><td>&quot;20231201&quot;</td><td>&quot;0000&quot;</td><td>&quot;0001&quot;</td><td>&quot;od&quot;</td><td>&quot;fc&quot;</td><td>&quot;oper&quot;</td><td>&quot;0&quot;</td><td>&quot;250&quot;</td><td>&quot;pl&quot;</td><td>&quot;vo&quot;</td><td>25423522</td><td>588929</td></tr><tr><td>&quot;g&quot;</td><td>&quot;20231201&quot;</td><td>&quot;0000&quot;</td><td>&quot;0001&quot;</td><td>&quot;od&quot;</td><td>&quot;fc&quot;</td><td>&quot;oper&quot;</td><td>&quot;0&quot;</td><td>&quot;50&quot;</td><td>&quot;pl&quot;</td><td>&quot;d&quot;</td><td>26012451</td><td>583943</td></tr><tr><td>&quot;g&quot;</td><td>&quot;20231201&quot;</td><td>&quot;0000&quot;</td><td>&quot;0001&quot;</td><td>&quot;od&quot;</td><td>&quot;fc&quot;</td><td>&quot;oper&quot;</td><td>&quot;0&quot;</td><td>&quot;50&quot;</td><td>&quot;pl&quot;</td><td>&quot;vo&quot;</td><td>26596394</td><td>506111</td></tr></tbody></table></div>"
      ],
      "text/plain": [
       "shape: (83, 13)\n",
       "┌────────┬──────────┬──────┬────────┬───┬─────────┬───────┬──────────┬─────────┐\n",
       "│ domain ┆ date     ┆ time ┆ expver ┆ … ┆ levtype ┆ param ┆ _offset  ┆ _length │\n",
       "│ ---    ┆ ---      ┆ ---  ┆ ---    ┆   ┆ ---     ┆ ---   ┆ ---      ┆ ---     │\n",
       "│ str    ┆ str      ┆ str  ┆ str    ┆   ┆ str     ┆ str   ┆ i64      ┆ i64     │\n",
       "╞════════╪══════════╪══════╪════════╪═══╪═════════╪═══════╪══════════╪═════════╡\n",
       "│ g      ┆ 20231201 ┆ 0000 ┆ 0001   ┆ … ┆ pl      ┆ r     ┆ 0        ┆ 199377  │\n",
       "│ g      ┆ 20231201 ┆ 0000 ┆ 0001   ┆ … ┆ pl      ┆ gh    ┆ 199377   ┆ 222840  │\n",
       "│ g      ┆ 20231201 ┆ 0000 ┆ 0001   ┆ … ┆ sfc     ┆ st    ┆ 422217   ┆ 276625  │\n",
       "│ g      ┆ 20231201 ┆ 0000 ┆ 0001   ┆ … ┆ pl      ┆ t     ┆ 698842   ┆ 259574  │\n",
       "│ …      ┆ …        ┆ …    ┆ …      ┆ … ┆ …       ┆ …     ┆ …        ┆ …       │\n",
       "│ g      ┆ 20231201 ┆ 0000 ┆ 0001   ┆ … ┆ pl      ┆ vo    ┆ 24861768 ┆ 561754  │\n",
       "│ g      ┆ 20231201 ┆ 0000 ┆ 0001   ┆ … ┆ pl      ┆ vo    ┆ 25423522 ┆ 588929  │\n",
       "│ g      ┆ 20231201 ┆ 0000 ┆ 0001   ┆ … ┆ pl      ┆ d     ┆ 26012451 ┆ 583943  │\n",
       "│ g      ┆ 20231201 ┆ 0000 ┆ 0001   ┆ … ┆ pl      ┆ vo    ┆ 26596394 ┆ 506111  │\n",
       "└────────┴──────────┴──────┴────────┴───┴─────────┴───────┴──────────┴─────────┘"
      ]
     },
     "execution_count": 22,
     "metadata": {},
     "output_type": "execute_result"
    }
   ],
   "source": [
    "# But polars can read a local json lines file\n",
    "\n",
    "import requests\n",
    "\n",
    "local_json = \"my_json.json\"\n",
    "\n",
    "response = requests.get(index_filepath)\n",
    "with open(local_json, \"wb\") as file:\n",
    "    file.write(response.content)\n",
    "\n",
    "pl.read_ndjson(local_json)"
   ]
  },
  {
   "cell_type": "markdown",
   "metadata": {},
   "source": [
    "## Polars index parser\n",
    "I need to make parsing data from the index file as fast as possible. My Pandas-based parser takes ~2 seconds. Can Polars do it faster?"
   ]
  },
  {
   "cell_type": "code",
   "execution_count": null,
   "metadata": {},
   "outputs": [],
   "source": [
    "index_path = \"https://noaa-hrrr-bdp-pds.s3.amazonaws.com/hrrr.20231201/conus/hrrr.t00z.wrfsfcf00.grib2.idx\""
   ]
  },
  {
   "cell_type": "code",
   "execution_count": 23,
   "metadata": {},
   "outputs": [],
   "source": [
    "from herbie.inventory import Inventory"
   ]
  },
  {
   "cell_type": "code",
   "execution_count": 24,
   "metadata": {},
   "outputs": [
    {
     "name": "stdout",
     "output_type": "stream",
     "text": [
      "1.95 s ± 43 ms per loop (mean ± std. dev. of 7 runs, 1 loop each)\n"
     ]
    }
   ],
   "source": [
    "%%timeit\n",
    "I = Inventory(index_path)\n",
    "df = I.dataframe"
   ]
  },
  {
   "cell_type": "code",
   "execution_count": 26,
   "metadata": {},
   "outputs": [
    {
     "data": {
      "text/html": [
       "<div><style>\n",
       ".dataframe > thead > tr,\n",
       ".dataframe > tbody > tr {\n",
       "  text-align: right;\n",
       "  white-space: pre-wrap;\n",
       "}\n",
       "</style>\n",
       "<small>shape: (5, 7)</small><table border=\"1\" class=\"dataframe\"><thead><tr><th>column_1</th><th>column_2</th><th>column_3</th><th>column_4</th><th>column_5</th><th>column_6</th><th>column_7</th></tr><tr><td>i64</td><td>i64</td><td>str</td><td>str</td><td>str</td><td>str</td><td>str</td></tr></thead><tbody><tr><td>1</td><td>0</td><td>&quot;d=2023120100&quot;</td><td>&quot;REFC&quot;</td><td>&quot;entire atmosph…</td><td>&quot;anl&quot;</td><td>null</td></tr><tr><td>2</td><td>404023</td><td>&quot;d=2023120100&quot;</td><td>&quot;RETOP&quot;</td><td>&quot;cloud top&quot;</td><td>&quot;anl&quot;</td><td>null</td></tr><tr><td>3</td><td>640892</td><td>&quot;d=2023120100&quot;</td><td>&quot;var discipline…</td><td>&quot;entire atmosph…</td><td>&quot;anl&quot;</td><td>null</td></tr><tr><td>4</td><td>1192793</td><td>&quot;d=2023120100&quot;</td><td>&quot;VIL&quot;</td><td>&quot;entire atmosph…</td><td>&quot;anl&quot;</td><td>null</td></tr><tr><td>5</td><td>1532460</td><td>&quot;d=2023120100&quot;</td><td>&quot;VIS&quot;</td><td>&quot;surface&quot;</td><td>&quot;anl&quot;</td><td>null</td></tr></tbody></table></div>"
      ],
      "text/plain": [
       "shape: (5, 7)\n",
       "┌──────────┬──────────┬──────────────┬───────────────────┬───────────────────┬──────────┬──────────┐\n",
       "│ column_1 ┆ column_2 ┆ column_3     ┆ column_4          ┆ column_5          ┆ column_6 ┆ column_7 │\n",
       "│ ---      ┆ ---      ┆ ---          ┆ ---               ┆ ---               ┆ ---      ┆ ---      │\n",
       "│ i64      ┆ i64      ┆ str          ┆ str               ┆ str               ┆ str      ┆ str      │\n",
       "╞══════════╪══════════╪══════════════╪═══════════════════╪═══════════════════╪══════════╪══════════╡\n",
       "│ 1        ┆ 0        ┆ d=2023120100 ┆ REFC              ┆ entire atmosphere ┆ anl      ┆ null     │\n",
       "│ 2        ┆ 404023   ┆ d=2023120100 ┆ RETOP             ┆ cloud top         ┆ anl      ┆ null     │\n",
       "│ 3        ┆ 640892   ┆ d=2023120100 ┆ var discipline=0  ┆ entire atmosphere ┆ anl      ┆ null     │\n",
       "│          ┆          ┆              ┆ center=7 local_…  ┆                   ┆          ┆          │\n",
       "│ 4        ┆ 1192793  ┆ d=2023120100 ┆ VIL               ┆ entire atmosphere ┆ anl      ┆ null     │\n",
       "│ 5        ┆ 1532460  ┆ d=2023120100 ┆ VIS               ┆ surface           ┆ anl      ┆ null     │\n",
       "└──────────┴──────────┴──────────────┴───────────────────┴───────────────────┴──────────┴──────────┘"
      ]
     },
     "execution_count": 26,
     "metadata": {},
     "output_type": "execute_result"
    }
   ],
   "source": [
    "index_polars = pl.read_csv(\n",
    "    index_path,\n",
    "    separator=\":\",\n",
    "    truncate_ragged_lines=True,\n",
    "    has_header=False,\n",
    ")\n",
    "index_polars.head()"
   ]
  },
  {
   "cell_type": "code",
   "execution_count": 39,
   "metadata": {},
   "outputs": [
    {
     "ename": "ComputeError",
     "evalue": "Invalid format string: Please either specify both hour and minute, or neither.",
     "output_type": "error",
     "traceback": [
      "\u001b[0;31m---------------------------------------------------------------------------\u001b[0m",
      "\u001b[0;31mComputeError\u001b[0m                              Traceback (most recent call last)",
      "Cell \u001b[0;32mIn[39], line 1\u001b[0m\n\u001b[0;32m----> 1\u001b[0m \u001b[43mindex_polars\u001b[49m\u001b[38;5;241;43m.\u001b[39;49m\u001b[43mwith_columns\u001b[49m\u001b[43m(\u001b[49m\n\u001b[1;32m      2\u001b[0m \u001b[43m    \u001b[49m\u001b[43mpl\u001b[49m\u001b[38;5;241;43m.\u001b[39;49m\u001b[43mcol\u001b[49m\u001b[43m(\u001b[49m\u001b[38;5;124;43m\"\u001b[39;49m\u001b[38;5;124;43mcolumn_3\u001b[39;49m\u001b[38;5;124;43m\"\u001b[39;49m\u001b[43m)\u001b[49m\u001b[38;5;241;43m.\u001b[39;49m\u001b[43mstr\u001b[49m\u001b[38;5;241;43m.\u001b[39;49m\u001b[43mstrptime\u001b[49m\u001b[43m(\u001b[49m\u001b[43mpl\u001b[49m\u001b[38;5;241;43m.\u001b[39;49m\u001b[43mDatetime\u001b[49m\u001b[43m,\u001b[49m\u001b[43m \u001b[49m\u001b[38;5;28;43mformat\u001b[39;49m\u001b[38;5;241;43m=\u001b[39;49m\u001b[38;5;124;43m\"\u001b[39;49m\u001b[38;5;124;43md=\u001b[39;49m\u001b[38;5;124;43m%\u001b[39;49m\u001b[38;5;124;43mY\u001b[39;49m\u001b[38;5;124;43m%\u001b[39;49m\u001b[38;5;124;43mm\u001b[39;49m\u001b[38;5;132;43;01m%d\u001b[39;49;00m\u001b[38;5;124;43m%\u001b[39;49m\u001b[38;5;124;43mH\u001b[39;49m\u001b[38;5;124;43m\"\u001b[39;49m\u001b[43m,\u001b[49m\u001b[43m \u001b[49m\u001b[43mstrict\u001b[49m\u001b[38;5;241;43m=\u001b[39;49m\u001b[38;5;28;43;01mTrue\u001b[39;49;00m\u001b[43m)\u001b[49m\n\u001b[1;32m      3\u001b[0m \u001b[43m)\u001b[49m\n",
      "File \u001b[0;32m~/miniconda3/envs/herbie-dev/lib/python3.12/site-packages/polars/dataframe/frame.py:8184\u001b[0m, in \u001b[0;36mDataFrame.with_columns\u001b[0;34m(self, *exprs, **named_exprs)\u001b[0m\n\u001b[1;32m   8036\u001b[0m \u001b[38;5;28;01mdef\u001b[39;00m \u001b[38;5;21mwith_columns\u001b[39m(\n\u001b[1;32m   8037\u001b[0m     \u001b[38;5;28mself\u001b[39m,\n\u001b[1;32m   8038\u001b[0m     \u001b[38;5;241m*\u001b[39mexprs: IntoExpr \u001b[38;5;241m|\u001b[39m Iterable[IntoExpr],\n\u001b[1;32m   8039\u001b[0m     \u001b[38;5;241m*\u001b[39m\u001b[38;5;241m*\u001b[39mnamed_exprs: IntoExpr,\n\u001b[1;32m   8040\u001b[0m ) \u001b[38;5;241m-\u001b[39m\u001b[38;5;241m>\u001b[39m DataFrame:\n\u001b[1;32m   8041\u001b[0m \u001b[38;5;250m    \u001b[39m\u001b[38;5;124;03m\"\"\"\u001b[39;00m\n\u001b[1;32m   8042\u001b[0m \u001b[38;5;124;03m    Add columns to this DataFrame.\u001b[39;00m\n\u001b[1;32m   8043\u001b[0m \n\u001b[0;32m   (...)\u001b[0m\n\u001b[1;32m   8182\u001b[0m \n\u001b[1;32m   8183\u001b[0m \u001b[38;5;124;03m    \"\"\"\u001b[39;00m\n\u001b[0;32m-> 8184\u001b[0m     \u001b[38;5;28;01mreturn\u001b[39;00m \u001b[38;5;28;43mself\u001b[39;49m\u001b[38;5;241;43m.\u001b[39;49m\u001b[43mlazy\u001b[49m\u001b[43m(\u001b[49m\u001b[43m)\u001b[49m\u001b[38;5;241;43m.\u001b[39;49m\u001b[43mwith_columns\u001b[49m\u001b[43m(\u001b[49m\u001b[38;5;241;43m*\u001b[39;49m\u001b[43mexprs\u001b[49m\u001b[43m,\u001b[49m\u001b[43m \u001b[49m\u001b[38;5;241;43m*\u001b[39;49m\u001b[38;5;241;43m*\u001b[39;49m\u001b[43mnamed_exprs\u001b[49m\u001b[43m)\u001b[49m\u001b[38;5;241;43m.\u001b[39;49m\u001b[43mcollect\u001b[49m\u001b[43m(\u001b[49m\u001b[43m_eager\u001b[49m\u001b[38;5;241;43m=\u001b[39;49m\u001b[38;5;28;43;01mTrue\u001b[39;49;00m\u001b[43m)\u001b[49m\n",
      "File \u001b[0;32m~/miniconda3/envs/herbie-dev/lib/python3.12/site-packages/polars/lazyframe/frame.py:1706\u001b[0m, in \u001b[0;36mLazyFrame.collect\u001b[0;34m(self, type_coercion, predicate_pushdown, projection_pushdown, simplify_expression, slice_pushdown, comm_subplan_elim, comm_subexpr_elim, no_optimization, streaming, _eager)\u001b[0m\n\u001b[1;32m   1693\u001b[0m     comm_subplan_elim \u001b[38;5;241m=\u001b[39m \u001b[38;5;28;01mFalse\u001b[39;00m\n\u001b[1;32m   1695\u001b[0m ldf \u001b[38;5;241m=\u001b[39m \u001b[38;5;28mself\u001b[39m\u001b[38;5;241m.\u001b[39m_ldf\u001b[38;5;241m.\u001b[39moptimization_toggle(\n\u001b[1;32m   1696\u001b[0m     type_coercion,\n\u001b[1;32m   1697\u001b[0m     predicate_pushdown,\n\u001b[0;32m   (...)\u001b[0m\n\u001b[1;32m   1704\u001b[0m     _eager,\n\u001b[1;32m   1705\u001b[0m )\n\u001b[0;32m-> 1706\u001b[0m \u001b[38;5;28;01mreturn\u001b[39;00m wrap_df(\u001b[43mldf\u001b[49m\u001b[38;5;241;43m.\u001b[39;49m\u001b[43mcollect\u001b[49m\u001b[43m(\u001b[49m\u001b[43m)\u001b[49m)\n",
      "\u001b[0;31mComputeError\u001b[0m: Invalid format string: Please either specify both hour and minute, or neither."
     ]
    }
   ],
   "source": [
    "index_polars.with_columns(\n",
    "    pl.col(\"column_3\").str.strptime(pl.Datetime, format=\"d=%Y%m%d%H\", strict=True)\n",
    ")"
   ]
  },
  {
   "cell_type": "code",
   "execution_count": 42,
   "metadata": {},
   "outputs": [
    {
     "name": "stdout",
     "output_type": "stream",
     "text": [
      "shape: (2, 1)\n",
      "┌──────────────┐\n",
      "│ date_str     │\n",
      "│ ---          │\n",
      "│ str          │\n",
      "╞══════════════╡\n",
      "│ d=2023120100 │\n",
      "│ d=2023120112 │\n",
      "└──────────────┘\n"
     ]
    }
   ],
   "source": [
    "df = pl.DataFrame({\"date_str\": [\"d=2023120100\", \"d=2023120112\"]})\n",
    "print(df)"
   ]
  },
  {
   "cell_type": "code",
   "execution_count": 44,
   "metadata": {},
   "outputs": [
    {
     "ename": "ComputeError",
     "evalue": "Invalid format string: Please either specify both hour and minute, or neither.",
     "output_type": "error",
     "traceback": [
      "\u001b[0;31m---------------------------------------------------------------------------\u001b[0m",
      "\u001b[0;31mComputeError\u001b[0m                              Traceback (most recent call last)",
      "Cell \u001b[0;32mIn[44], line 1\u001b[0m\n\u001b[0;32m----> 1\u001b[0m \u001b[43mdf\u001b[49m\u001b[38;5;241;43m.\u001b[39;49m\u001b[43mwith_columns\u001b[49m\u001b[43m(\u001b[49m\u001b[43mpl\u001b[49m\u001b[38;5;241;43m.\u001b[39;49m\u001b[43mcol\u001b[49m\u001b[43m(\u001b[49m\u001b[38;5;124;43m\"\u001b[39;49m\u001b[38;5;124;43mdate_str\u001b[39;49m\u001b[38;5;124;43m\"\u001b[39;49m\u001b[43m)\u001b[49m\u001b[38;5;241;43m.\u001b[39;49m\u001b[43mstr\u001b[49m\u001b[38;5;241;43m.\u001b[39;49m\u001b[43mstrptime\u001b[49m\u001b[43m(\u001b[49m\u001b[43mpl\u001b[49m\u001b[38;5;241;43m.\u001b[39;49m\u001b[43mDatetime\u001b[49m\u001b[43m,\u001b[49m\u001b[43m \u001b[49m\u001b[38;5;124;43m\"\u001b[39;49m\u001b[38;5;124;43md=\u001b[39;49m\u001b[38;5;124;43m%\u001b[39;49m\u001b[38;5;124;43mY\u001b[39;49m\u001b[38;5;124;43m%\u001b[39;49m\u001b[38;5;124;43mm\u001b[39;49m\u001b[38;5;132;43;01m%d\u001b[39;49;00m\u001b[38;5;124;43m%\u001b[39;49m\u001b[38;5;124;43mH\u001b[39;49m\u001b[38;5;124;43m\"\u001b[39;49m\u001b[43m)\u001b[49m\u001b[43m)\u001b[49m\n",
      "File \u001b[0;32m~/miniconda3/envs/herbie-dev/lib/python3.12/site-packages/polars/dataframe/frame.py:8184\u001b[0m, in \u001b[0;36mDataFrame.with_columns\u001b[0;34m(self, *exprs, **named_exprs)\u001b[0m\n\u001b[1;32m   8036\u001b[0m \u001b[38;5;28;01mdef\u001b[39;00m \u001b[38;5;21mwith_columns\u001b[39m(\n\u001b[1;32m   8037\u001b[0m     \u001b[38;5;28mself\u001b[39m,\n\u001b[1;32m   8038\u001b[0m     \u001b[38;5;241m*\u001b[39mexprs: IntoExpr \u001b[38;5;241m|\u001b[39m Iterable[IntoExpr],\n\u001b[1;32m   8039\u001b[0m     \u001b[38;5;241m*\u001b[39m\u001b[38;5;241m*\u001b[39mnamed_exprs: IntoExpr,\n\u001b[1;32m   8040\u001b[0m ) \u001b[38;5;241m-\u001b[39m\u001b[38;5;241m>\u001b[39m DataFrame:\n\u001b[1;32m   8041\u001b[0m \u001b[38;5;250m    \u001b[39m\u001b[38;5;124;03m\"\"\"\u001b[39;00m\n\u001b[1;32m   8042\u001b[0m \u001b[38;5;124;03m    Add columns to this DataFrame.\u001b[39;00m\n\u001b[1;32m   8043\u001b[0m \n\u001b[0;32m   (...)\u001b[0m\n\u001b[1;32m   8182\u001b[0m \n\u001b[1;32m   8183\u001b[0m \u001b[38;5;124;03m    \"\"\"\u001b[39;00m\n\u001b[0;32m-> 8184\u001b[0m     \u001b[38;5;28;01mreturn\u001b[39;00m \u001b[38;5;28;43mself\u001b[39;49m\u001b[38;5;241;43m.\u001b[39;49m\u001b[43mlazy\u001b[49m\u001b[43m(\u001b[49m\u001b[43m)\u001b[49m\u001b[38;5;241;43m.\u001b[39;49m\u001b[43mwith_columns\u001b[49m\u001b[43m(\u001b[49m\u001b[38;5;241;43m*\u001b[39;49m\u001b[43mexprs\u001b[49m\u001b[43m,\u001b[49m\u001b[43m \u001b[49m\u001b[38;5;241;43m*\u001b[39;49m\u001b[38;5;241;43m*\u001b[39;49m\u001b[43mnamed_exprs\u001b[49m\u001b[43m)\u001b[49m\u001b[38;5;241;43m.\u001b[39;49m\u001b[43mcollect\u001b[49m\u001b[43m(\u001b[49m\u001b[43m_eager\u001b[49m\u001b[38;5;241;43m=\u001b[39;49m\u001b[38;5;28;43;01mTrue\u001b[39;49;00m\u001b[43m)\u001b[49m\n",
      "File \u001b[0;32m~/miniconda3/envs/herbie-dev/lib/python3.12/site-packages/polars/lazyframe/frame.py:1706\u001b[0m, in \u001b[0;36mLazyFrame.collect\u001b[0;34m(self, type_coercion, predicate_pushdown, projection_pushdown, simplify_expression, slice_pushdown, comm_subplan_elim, comm_subexpr_elim, no_optimization, streaming, _eager)\u001b[0m\n\u001b[1;32m   1693\u001b[0m     comm_subplan_elim \u001b[38;5;241m=\u001b[39m \u001b[38;5;28;01mFalse\u001b[39;00m\n\u001b[1;32m   1695\u001b[0m ldf \u001b[38;5;241m=\u001b[39m \u001b[38;5;28mself\u001b[39m\u001b[38;5;241m.\u001b[39m_ldf\u001b[38;5;241m.\u001b[39moptimization_toggle(\n\u001b[1;32m   1696\u001b[0m     type_coercion,\n\u001b[1;32m   1697\u001b[0m     predicate_pushdown,\n\u001b[0;32m   (...)\u001b[0m\n\u001b[1;32m   1704\u001b[0m     _eager,\n\u001b[1;32m   1705\u001b[0m )\n\u001b[0;32m-> 1706\u001b[0m \u001b[38;5;28;01mreturn\u001b[39;00m wrap_df(\u001b[43mldf\u001b[49m\u001b[38;5;241;43m.\u001b[39;49m\u001b[43mcollect\u001b[49m\u001b[43m(\u001b[49m\u001b[43m)\u001b[49m)\n",
      "\u001b[0;31mComputeError\u001b[0m: Invalid format string: Please either specify both hour and minute, or neither."
     ]
    }
   ],
   "source": [
    "df.with_columns(pl.col(\"date_str\").str.strptime(pl.Datetime, \"d=%Y%m%d%H\"))"
   ]
  }
 ],
 "metadata": {
  "kernelspec": {
   "display_name": "herbie-dev",
   "language": "python",
   "name": "python3"
  },
  "language_info": {
   "codemirror_mode": {
    "name": "ipython",
    "version": 3
   },
   "file_extension": ".py",
   "mimetype": "text/x-python",
   "name": "python",
   "nbconvert_exporter": "python",
   "pygments_lexer": "ipython3",
   "version": "3.12.1"
  }
 },
 "nbformat": 4,
 "nbformat_minor": 2
}
